{
 "cells": [
  {
   "cell_type": "code",
   "execution_count": 1,
   "metadata": {},
   "outputs": [],
   "source": [
    "import sqlite3\n",
    "import pandas as pd \n",
    "\n",
    "data =  pd.read_csv('./data.csv')\n",
    "conn = sqlite3.connect('laravel_production_anonymized')\n",
    "cursor = conn.cursor()\n",
    "\n",
    "# data.to_sql()"
   ]
  },
  {
   "cell_type": "code",
   "execution_count": 3,
   "metadata": {},
   "outputs": [],
   "source": [
    "import mysql.connector\n",
    "import pandas as pd \n",
    "\n",
    "conn = mysql.connector.connect(\n",
    "    host='prod-anonymized.c3nfgibhmoys.eu-west-1.rds.amazonaws.com',\n",
    "    port=3306,\n",
    "    user='bas',\n",
    "    password=input(\"Enter database password: \"),\n",
    "    database='laravel_production_anonymized'\n",
    ")\n",
    "\n",
    "# Create a cursor object to execute SQL queries\n",
    "cursor = conn.cursor()\n",
    "\n",
    "# Execute SQL queries\n",
    "cursor.execute(\"SELECT * FROM exams LIMIT 200\")\n",
    "\n",
    "# Fetch all rows from the cursor\n",
    "rows = cursor.fetchall()\n",
    "\n",
    "# Convert rows to a DataFrame\n",
    "df = pd.DataFrame(rows, columns=[desc[0] for desc in cursor.description])\n",
    "\n",
    "# Remember to close the cursor and connection when done\n",
    "cursor.close()\n",
    "conn.close()\n"
   ]
  },
  {
   "cell_type": "code",
   "execution_count": 5,
   "metadata": {},
   "outputs": [
    {
     "name": "stderr",
     "output_type": "stream",
     "text": [
      "UsageError: Line magic function `%sql` not found.\n"
     ]
    }
   ],
   "source": [
    "%sql Describe exams"
   ]
  },
  {
   "cell_type": "code",
   "execution_count": 4,
   "metadata": {},
   "outputs": [
    {
     "data": {
      "text/plain": [
       "['id',\n",
       " 'exam_type',\n",
       " 'user_id',\n",
       " 'created_at',\n",
       " 'updated_at',\n",
       " 'guid',\n",
       " 'current_exam_status_id',\n",
       " 'administrative_group',\n",
       " 'administrative_area',\n",
       " 'eyewear_type',\n",
       " 'health_warning',\n",
       " 'user_age']"
      ]
     },
     "execution_count": 4,
     "metadata": {},
     "output_type": "execute_result"
    }
   ],
   "source": [
    "list(df.columns)"
   ]
  }
 ],
 "metadata": {
  "kernelspec": {
   "display_name": "Python 3",
   "language": "python",
   "name": "python3"
  },
  "language_info": {
   "codemirror_mode": {
    "name": "ipython",
    "version": 3
   },
   "file_extension": ".py",
   "mimetype": "text/x-python",
   "name": "python",
   "nbconvert_exporter": "python",
   "pygments_lexer": "ipython3",
   "version": "3.10.12"
  }
 },
 "nbformat": 4,
 "nbformat_minor": 2
}
